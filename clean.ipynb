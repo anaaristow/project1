{
 "cells": [
  {
   "cell_type": "code",
   "execution_count": 1,
   "metadata": {},
   "outputs": [],
   "source": [
    "import pandas as pd\n",
    "import numpy as np\n",
    "import matplotlib.pyplot as plt \n",
    "import seaborn as sns\n",
    "\n",
    "try:\n",
    "    df = pd.read_csv(\"../project1/attacks.csv\", encoding='utf-8')\n",
    "except UnicodeDecodeError:\n",
    "    df = pd.read_csv(\"../project1/attacks.csv\", encoding='latin1') \n",
    "\n",
    "df.columns = df.columns.str.lower().str.replace(' ', '_')"
   ]
  },
  {
   "cell_type": "code",
   "execution_count": 2,
   "id": "b23acd7e",
   "metadata": {},
   "outputs": [],
   "source": [
    "# Creating a subset with the info I need\n",
    "subset = df[[\"date\", \"year\", \"type\", \"country\", \"area\", \"location\", \"activity\", \"name\", \"sex_\",\"fatal_(y/n)\", \"species_\", \"investigator_or_source\"]]"
   ]
  },
  {
   "cell_type": "code",
   "execution_count": 3,
   "id": "f2ec4772",
   "metadata": {},
   "outputs": [],
   "source": [
    "#Dropping the rows that are all in blank\n",
    "subset = subset.dropna(how='all')"
   ]
  },
  {
   "cell_type": "code",
   "execution_count": 4,
   "id": "c9172687",
   "metadata": {},
   "outputs": [],
   "source": [
    "# Cleaning column 'date' and Creating df = date with only the info that match the regex pattern\n",
    "\n",
    "pattern = r'\\d{2}-[A-Za-z]{3}-\\d{4}$'\n",
    "\n",
    "# Using the pattern to create a subset with only the data that match: DD-Mon-YYYY\n",
    "subset = subset[subset[\"date\"].str.match(pattern, \n",
    "                                       na=False, \n",
    "                                       case=False)]\n",
    "\n",
    "# Formating column 'Date'into datetime\n",
    "subset[\"date\"] = pd.to_datetime(subset.date,format=\"mixed\")\n",
    "\n",
    "# Formating column 'Year' into float\n",
    "subset[\"year\"] = subset[\"year\"].astype(float)\n",
    "\n",
    "# Adding a column named \"Weekday\"\n",
    "subset[\"weekday\"] = subset[\"date\"].dt.weekday"
   ]
  },
  {
   "cell_type": "code",
   "execution_count": 5,
   "id": "30379b41",
   "metadata": {},
   "outputs": [
    {
     "ename": "NameError",
     "evalue": "name 're' is not defined",
     "output_type": "error",
     "traceback": [
      "\u001b[1;31m---------------------------------------------------------------------------\u001b[0m",
      "\u001b[1;31mNameError\u001b[0m                                 Traceback (most recent call last)",
      "\u001b[1;32mc:\\Users\\anafl\\ironhack\\project1\\clean.ipynb Cell 5\u001b[0m line \u001b[0;36m1\n\u001b[0;32m      <a href='vscode-notebook-cell:/c%3A/Users/anafl/ironhack/project1/clean.ipynb#W4sZmlsZQ%3D%3D?line=8'>9</a>\u001b[0m     \u001b[39mreturn\u001b[39;00m \u001b[39m'\u001b[39m\u001b[39mUnknown\u001b[39m\u001b[39m'\u001b[39m\n\u001b[0;32m     <a href='vscode-notebook-cell:/c%3A/Users/anafl/ironhack/project1/clean.ipynb#W4sZmlsZQ%3D%3D?line=10'>11</a>\u001b[0m \u001b[39m# Apply the clean_fatal function to the 'Fatal (Y/N)' column\u001b[39;00m\n\u001b[1;32m---> <a href='vscode-notebook-cell:/c%3A/Users/anafl/ironhack/project1/clean.ipynb#W4sZmlsZQ%3D%3D?line=11'>12</a>\u001b[0m subset[\u001b[39m'\u001b[39m\u001b[39mfatal_clean\u001b[39m\u001b[39m'\u001b[39m] \u001b[39m=\u001b[39m subset[\u001b[39m'\u001b[39;49m\u001b[39mfatal_(y/n)\u001b[39;49m\u001b[39m'\u001b[39;49m]\u001b[39m.\u001b[39;49mapply(clean_fatal)\n",
      "File \u001b[1;32mc:\\Users\\anafl\\miniconda3\\envs\\ironhack\\Lib\\site-packages\\pandas\\core\\series.py:4760\u001b[0m, in \u001b[0;36mSeries.apply\u001b[1;34m(self, func, convert_dtype, args, by_row, **kwargs)\u001b[0m\n\u001b[0;32m   4625\u001b[0m \u001b[39mdef\u001b[39;00m \u001b[39mapply\u001b[39m(\n\u001b[0;32m   4626\u001b[0m     \u001b[39mself\u001b[39m,\n\u001b[0;32m   4627\u001b[0m     func: AggFuncType,\n\u001b[1;32m   (...)\u001b[0m\n\u001b[0;32m   4632\u001b[0m     \u001b[39m*\u001b[39m\u001b[39m*\u001b[39mkwargs,\n\u001b[0;32m   4633\u001b[0m ) \u001b[39m-\u001b[39m\u001b[39m>\u001b[39m DataFrame \u001b[39m|\u001b[39m Series:\n\u001b[0;32m   4634\u001b[0m \u001b[39m    \u001b[39m\u001b[39m\"\"\"\u001b[39;00m\n\u001b[0;32m   4635\u001b[0m \u001b[39m    Invoke function on values of Series.\u001b[39;00m\n\u001b[0;32m   4636\u001b[0m \n\u001b[1;32m   (...)\u001b[0m\n\u001b[0;32m   4751\u001b[0m \u001b[39m    dtype: float64\u001b[39;00m\n\u001b[0;32m   4752\u001b[0m \u001b[39m    \"\"\"\u001b[39;00m\n\u001b[0;32m   4753\u001b[0m     \u001b[39mreturn\u001b[39;00m SeriesApply(\n\u001b[0;32m   4754\u001b[0m         \u001b[39mself\u001b[39;49m,\n\u001b[0;32m   4755\u001b[0m         func,\n\u001b[0;32m   4756\u001b[0m         convert_dtype\u001b[39m=\u001b[39;49mconvert_dtype,\n\u001b[0;32m   4757\u001b[0m         by_row\u001b[39m=\u001b[39;49mby_row,\n\u001b[0;32m   4758\u001b[0m         args\u001b[39m=\u001b[39;49margs,\n\u001b[0;32m   4759\u001b[0m         kwargs\u001b[39m=\u001b[39;49mkwargs,\n\u001b[1;32m-> 4760\u001b[0m     )\u001b[39m.\u001b[39;49mapply()\n",
      "File \u001b[1;32mc:\\Users\\anafl\\miniconda3\\envs\\ironhack\\Lib\\site-packages\\pandas\\core\\apply.py:1207\u001b[0m, in \u001b[0;36mSeriesApply.apply\u001b[1;34m(self)\u001b[0m\n\u001b[0;32m   1204\u001b[0m     \u001b[39mreturn\u001b[39;00m \u001b[39mself\u001b[39m\u001b[39m.\u001b[39mapply_compat()\n\u001b[0;32m   1206\u001b[0m \u001b[39m# self.func is Callable\u001b[39;00m\n\u001b[1;32m-> 1207\u001b[0m \u001b[39mreturn\u001b[39;00m \u001b[39mself\u001b[39;49m\u001b[39m.\u001b[39;49mapply_standard()\n",
      "File \u001b[1;32mc:\\Users\\anafl\\miniconda3\\envs\\ironhack\\Lib\\site-packages\\pandas\\core\\apply.py:1287\u001b[0m, in \u001b[0;36mSeriesApply.apply_standard\u001b[1;34m(self)\u001b[0m\n\u001b[0;32m   1281\u001b[0m \u001b[39m# row-wise access\u001b[39;00m\n\u001b[0;32m   1282\u001b[0m \u001b[39m# apply doesn't have a `na_action` keyword and for backward compat reasons\u001b[39;00m\n\u001b[0;32m   1283\u001b[0m \u001b[39m# we need to give `na_action=\"ignore\"` for categorical data.\u001b[39;00m\n\u001b[0;32m   1284\u001b[0m \u001b[39m# TODO: remove the `na_action=\"ignore\"` when that default has been changed in\u001b[39;00m\n\u001b[0;32m   1285\u001b[0m \u001b[39m#  Categorical (GH51645).\u001b[39;00m\n\u001b[0;32m   1286\u001b[0m action \u001b[39m=\u001b[39m \u001b[39m\"\u001b[39m\u001b[39mignore\u001b[39m\u001b[39m\"\u001b[39m \u001b[39mif\u001b[39;00m \u001b[39misinstance\u001b[39m(obj\u001b[39m.\u001b[39mdtype, CategoricalDtype) \u001b[39melse\u001b[39;00m \u001b[39mNone\u001b[39;00m\n\u001b[1;32m-> 1287\u001b[0m mapped \u001b[39m=\u001b[39m obj\u001b[39m.\u001b[39;49m_map_values(\n\u001b[0;32m   1288\u001b[0m     mapper\u001b[39m=\u001b[39;49mcurried, na_action\u001b[39m=\u001b[39;49maction, convert\u001b[39m=\u001b[39;49m\u001b[39mself\u001b[39;49m\u001b[39m.\u001b[39;49mconvert_dtype\n\u001b[0;32m   1289\u001b[0m )\n\u001b[0;32m   1291\u001b[0m \u001b[39mif\u001b[39;00m \u001b[39mlen\u001b[39m(mapped) \u001b[39mand\u001b[39;00m \u001b[39misinstance\u001b[39m(mapped[\u001b[39m0\u001b[39m], ABCSeries):\n\u001b[0;32m   1292\u001b[0m     \u001b[39m# GH#43986 Need to do list(mapped) in order to get treated as nested\u001b[39;00m\n\u001b[0;32m   1293\u001b[0m     \u001b[39m#  See also GH#25959 regarding EA support\u001b[39;00m\n\u001b[0;32m   1294\u001b[0m     \u001b[39mreturn\u001b[39;00m obj\u001b[39m.\u001b[39m_constructor_expanddim(\u001b[39mlist\u001b[39m(mapped), index\u001b[39m=\u001b[39mobj\u001b[39m.\u001b[39mindex)\n",
      "File \u001b[1;32mc:\\Users\\anafl\\miniconda3\\envs\\ironhack\\Lib\\site-packages\\pandas\\core\\base.py:921\u001b[0m, in \u001b[0;36mIndexOpsMixin._map_values\u001b[1;34m(self, mapper, na_action, convert)\u001b[0m\n\u001b[0;32m    918\u001b[0m \u001b[39mif\u001b[39;00m \u001b[39misinstance\u001b[39m(arr, ExtensionArray):\n\u001b[0;32m    919\u001b[0m     \u001b[39mreturn\u001b[39;00m arr\u001b[39m.\u001b[39mmap(mapper, na_action\u001b[39m=\u001b[39mna_action)\n\u001b[1;32m--> 921\u001b[0m \u001b[39mreturn\u001b[39;00m algorithms\u001b[39m.\u001b[39;49mmap_array(arr, mapper, na_action\u001b[39m=\u001b[39;49mna_action, convert\u001b[39m=\u001b[39;49mconvert)\n",
      "File \u001b[1;32mc:\\Users\\anafl\\miniconda3\\envs\\ironhack\\Lib\\site-packages\\pandas\\core\\algorithms.py:1814\u001b[0m, in \u001b[0;36mmap_array\u001b[1;34m(arr, mapper, na_action, convert)\u001b[0m\n\u001b[0;32m   1812\u001b[0m values \u001b[39m=\u001b[39m arr\u001b[39m.\u001b[39mastype(\u001b[39mobject\u001b[39m, copy\u001b[39m=\u001b[39m\u001b[39mFalse\u001b[39;00m)\n\u001b[0;32m   1813\u001b[0m \u001b[39mif\u001b[39;00m na_action \u001b[39mis\u001b[39;00m \u001b[39mNone\u001b[39;00m:\n\u001b[1;32m-> 1814\u001b[0m     \u001b[39mreturn\u001b[39;00m lib\u001b[39m.\u001b[39;49mmap_infer(values, mapper, convert\u001b[39m=\u001b[39;49mconvert)\n\u001b[0;32m   1815\u001b[0m \u001b[39melse\u001b[39;00m:\n\u001b[0;32m   1816\u001b[0m     \u001b[39mreturn\u001b[39;00m lib\u001b[39m.\u001b[39mmap_infer_mask(\n\u001b[0;32m   1817\u001b[0m         values, mapper, mask\u001b[39m=\u001b[39misna(values)\u001b[39m.\u001b[39mview(np\u001b[39m.\u001b[39muint8), convert\u001b[39m=\u001b[39mconvert\n\u001b[0;32m   1818\u001b[0m     )\n",
      "File \u001b[1;32mlib.pyx:2917\u001b[0m, in \u001b[0;36mpandas._libs.lib.map_infer\u001b[1;34m()\u001b[0m\n",
      "\u001b[1;32mc:\\Users\\anafl\\ironhack\\project1\\clean.ipynb Cell 5\u001b[0m line \u001b[0;36m6\n\u001b[0;32m      <a href='vscode-notebook-cell:/c%3A/Users/anafl/ironhack/project1/clean.ipynb#W4sZmlsZQ%3D%3D?line=2'>3</a>\u001b[0m \u001b[39mdef\u001b[39;00m \u001b[39mclean_fatal\u001b[39m(fatal):\n\u001b[0;32m      <a href='vscode-notebook-cell:/c%3A/Users/anafl/ironhack/project1/clean.ipynb#W4sZmlsZQ%3D%3D?line=3'>4</a>\u001b[0m     \u001b[39mif\u001b[39;00m \u001b[39misinstance\u001b[39m(fatal, \u001b[39mstr\u001b[39m):\n\u001b[0;32m      <a href='vscode-notebook-cell:/c%3A/Users/anafl/ironhack/project1/clean.ipynb#W4sZmlsZQ%3D%3D?line=4'>5</a>\u001b[0m         \u001b[39m# Checking if has Y or N - can be with space before or after...\u001b[39;00m\n\u001b[1;32m----> <a href='vscode-notebook-cell:/c%3A/Users/anafl/ironhack/project1/clean.ipynb#W4sZmlsZQ%3D%3D?line=5'>6</a>\u001b[0m         match \u001b[39m=\u001b[39m re\u001b[39m.\u001b[39mmatch(\u001b[39mr\u001b[39m\u001b[39m'\u001b[39m\u001b[39m\\\u001b[39m\u001b[39ms*(Y|N)\u001b[39m\u001b[39m\\\u001b[39m\u001b[39ms*\u001b[39m\u001b[39m'\u001b[39m, fatal, re\u001b[39m.\u001b[39mI)  \u001b[39m# the re.I means will get upper and lower case\u001b[39;00m\n\u001b[0;32m      <a href='vscode-notebook-cell:/c%3A/Users/anafl/ironhack/project1/clean.ipynb#W4sZmlsZQ%3D%3D?line=6'>7</a>\u001b[0m         \u001b[39mif\u001b[39;00m match:\n\u001b[0;32m      <a href='vscode-notebook-cell:/c%3A/Users/anafl/ironhack/project1/clean.ipynb#W4sZmlsZQ%3D%3D?line=7'>8</a>\u001b[0m             \u001b[39mreturn\u001b[39;00m match\u001b[39m.\u001b[39mgroup(\u001b[39m1\u001b[39m)\u001b[39m.\u001b[39mupper()  \u001b[39m# return Y or N in uppercase\u001b[39;00m\n",
      "\u001b[1;31mNameError\u001b[0m: name 're' is not defined"
     ]
    }
   ],
   "source": [
    "# Cleaning the column 'fatal_(y|n)' \n",
    "\n",
    "def clean_fatal(fatal):\n",
    "    if isinstance(fatal, str):\n",
    "        # Checking if has Y or N - can be with space before or after...\n",
    "        match = re.match(r'\\s*(Y|N)\\s*', fatal, re.I)  # the re.I means will get upper and lower case\n",
    "        if match:\n",
    "            return match.group(1).upper()  # return Y or N in uppercase\n",
    "    return 'Unknown'\n",
    "\n",
    "# Apply the clean_fatal function to the 'Fatal (Y/N)' column\n",
    "subset['fatal_clean'] = subset['fatal_(y/n)'].apply(clean_fatal)"
   ]
  },
  {
   "cell_type": "code",
   "execution_count": null,
   "id": "0daeae0d",
   "metadata": {},
   "outputs": [],
   "source": [
    "# Cleaning the column 'specie_' and Creating a new column named 'species_clean'\n",
    "\n",
    "species_mapping = {\n",
    "    'white shark': 'White shark',\n",
    "    'tiger shark': 'Tiger shark',\n",
    "    'bull shark': 'Bull shark',\n",
    "}\n",
    "\n",
    "# Function to check the species that was given in the data set\n",
    "def clean_species(species):\n",
    "    if isinstance(species, str): # Only do lower case in the one are not blank\n",
    "        species = species.lower() \n",
    "        for key, value in species_mapping.items():\n",
    "            if key in species:\n",
    "                # The re.escape() will espace the special characters\n",
    "                pattern = re.escape(key) + r'.*' # Get everythin that match the species mapping\n",
    "                if re.search(pattern, species): \n",
    "                    return value # If True return the Value Y or N\n",
    "    return 'Unknown' # if pattern is not in species will return ''\n",
    "\n",
    "subset[\"species_clean\"] = subset[\"species_\"].apply(clean_species)\n"
   ]
  },
  {
   "cell_type": "code",
   "execution_count": null,
   "id": "cb0350de",
   "metadata": {},
   "outputs": [
    {
     "data": {
      "text/plain": [
       "Index(['date', 'year', 'type', 'country', 'area', 'location', 'activity',\n",
       "       'name', 'sex_', 'fatal_(y/n)', 'species_', 'investigator_or_source',\n",
       "       'weekday', 'fatal_clean', 'species_clean'],\n",
       "      dtype='object')"
      ]
     },
     "execution_count": 72,
     "metadata": {},
     "output_type": "execute_result"
    }
   ],
   "source": [
    "subset.columns"
   ]
  },
  {
   "cell_type": "code",
   "execution_count": null,
   "id": "3c19a0a3",
   "metadata": {},
   "outputs": [],
   "source": [
    "# Exporting the data frame that was created in new csv directory\n",
    "\n",
    "subset.to_csv('../project1/newdf.csv')"
   ]
  },
  {
   "cell_type": "code",
   "execution_count": null,
   "id": "44b6fc07",
   "metadata": {},
   "outputs": [],
   "source": []
  },
  {
   "cell_type": "code",
   "execution_count": null,
   "id": "5b14aded",
   "metadata": {},
   "outputs": [],
   "source": []
  }
 ],
 "metadata": {
  "kernelspec": {
   "display_name": "ironhack",
   "language": "python",
   "name": "python3"
  },
  "language_info": {
   "codemirror_mode": {
    "name": "ipython",
    "version": 3
   },
   "file_extension": ".py",
   "mimetype": "text/x-python",
   "name": "python",
   "nbconvert_exporter": "python",
   "pygments_lexer": "ipython3",
   "version": "3.12.0"
  }
 },
 "nbformat": 4,
 "nbformat_minor": 5
}
